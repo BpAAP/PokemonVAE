{
  "nbformat": 4,
  "nbformat_minor": 0,
  "metadata": {
    "colab": {
      "name": "VAE",
      "provenance": [],
      "collapsed_sections": []
    },
    "kernelspec": {
      "name": "python3",
      "display_name": "Python 3"
    },
    "accelerator": "GPU"
  },
  "cells": [
    {
      "cell_type": "markdown",
      "metadata": {
        "id": "Vsj-kLgAlERB",
        "colab_type": "text"
      },
      "source": [
        "# Pokemon Generation and Interpolation\n",
        "This project uses a Variational Autoencoder to encode 128x128 pixel images of pokemon to a 1000 dimensional latent space. Then decodes this latent vector to another 128x128 image.\n",
        "\n",
        "For more details see www.benedekpapp.page/projects/pokemon-generation-and-interpolation\n"
      ]
    },
    {
      "cell_type": "markdown",
      "metadata": {
        "id": "_o615Z95lpKG",
        "colab_type": "text"
      },
      "source": [
        "### Getting data"
      ]
    },
    {
      "cell_type": "markdown",
      "metadata": {
        "id": "h3h_jyO_4eyK",
        "colab_type": "text"
      },
      "source": [
        "This Pokemon dataset was published on Kaggle, it is downloaded from a my GDrive as the kaggle link was not working at the time of making.\n",
        "Dataset source 'https://www.kaggle.com/kvpratama/pokemon-images-dataset'"
      ]
    },
    {
      "cell_type": "code",
      "metadata": {
        "id": "dQo9V8Fl27Iy",
        "colab_type": "code",
        "colab": {
          "base_uri": "https://localhost:8080/",
          "height": 445
        },
        "outputId": "fbe541d3-2c8f-47c6-cc5c-d913b179af37"
      },
      "source": [
        "!wget --load-cookies /tmp/cookies.txt \"https://docs.google.com/uc?export=download&confirm=$(wget --quiet --save-cookies /tmp/cookies.txt --keep-session-cookies --no-check-certificate 'https://docs.google.com/uc?export=download&id=1XvSDB1N2ytYZ6d_grMQrhRlmIsO746k6' -O- | sed -rn 's/.*confirm=([0-9A-Za-z_]+).*/\\1\\n/p')&id=1XvSDB1N2ytYZ6d_grMQrhRlmIsO746k6\" -O Large.zip && rm -rf /tmp/cookies.txt"
      ],
      "execution_count": 1,
      "outputs": [
        {
          "output_type": "stream",
          "text": [
            "--2020-08-29 10:24:59--  https://docs.google.com/uc?export=download&confirm=CjhB&id=1XvSDB1N2ytYZ6d_grMQrhRlmIsO746k6\n",
            "Resolving docs.google.com (docs.google.com)... 108.177.126.102, 108.177.126.139, 108.177.126.138, ...\n",
            "Connecting to docs.google.com (docs.google.com)|108.177.126.102|:443... connected.\n",
            "HTTP request sent, awaiting response... 302 Moved Temporarily\n",
            "Location: https://doc-08-28-docs.googleusercontent.com/docs/securesc/tn4pj8j8jadmtvfuf3pb7fselomm9l83/u8qn5gjrqqqflupalsnglv0o80b19v80/1598696625000/04111600379416530047/17339607233622191703Z/1XvSDB1N2ytYZ6d_grMQrhRlmIsO746k6?e=download [following]\n",
            "--2020-08-29 10:24:59--  https://doc-08-28-docs.googleusercontent.com/docs/securesc/tn4pj8j8jadmtvfuf3pb7fselomm9l83/u8qn5gjrqqqflupalsnglv0o80b19v80/1598696625000/04111600379416530047/17339607233622191703Z/1XvSDB1N2ytYZ6d_grMQrhRlmIsO746k6?e=download\n",
            "Resolving doc-08-28-docs.googleusercontent.com (doc-08-28-docs.googleusercontent.com)... 108.177.119.132, 2a00:1450:4013:c00::84\n",
            "Connecting to doc-08-28-docs.googleusercontent.com (doc-08-28-docs.googleusercontent.com)|108.177.119.132|:443... connected.\n",
            "HTTP request sent, awaiting response... 302 Found\n",
            "Location: https://docs.google.com/nonceSigner?nonce=s7ms6jusf9vem&continue=https://doc-08-28-docs.googleusercontent.com/docs/securesc/tn4pj8j8jadmtvfuf3pb7fselomm9l83/u8qn5gjrqqqflupalsnglv0o80b19v80/1598696625000/04111600379416530047/17339607233622191703Z/1XvSDB1N2ytYZ6d_grMQrhRlmIsO746k6?e%3Ddownload&hash=8j8eojjbhbji5hol1ga9ao8703n8771h [following]\n",
            "--2020-08-29 10:24:59--  https://docs.google.com/nonceSigner?nonce=s7ms6jusf9vem&continue=https://doc-08-28-docs.googleusercontent.com/docs/securesc/tn4pj8j8jadmtvfuf3pb7fselomm9l83/u8qn5gjrqqqflupalsnglv0o80b19v80/1598696625000/04111600379416530047/17339607233622191703Z/1XvSDB1N2ytYZ6d_grMQrhRlmIsO746k6?e%3Ddownload&hash=8j8eojjbhbji5hol1ga9ao8703n8771h\n",
            "Connecting to docs.google.com (docs.google.com)|108.177.126.102|:443... connected.\n",
            "HTTP request sent, awaiting response... 302 Found\n",
            "Location: https://doc-08-28-docs.googleusercontent.com/docs/securesc/tn4pj8j8jadmtvfuf3pb7fselomm9l83/u8qn5gjrqqqflupalsnglv0o80b19v80/1598696625000/04111600379416530047/17339607233622191703Z/1XvSDB1N2ytYZ6d_grMQrhRlmIsO746k6?e=download&nonce=s7ms6jusf9vem&user=17339607233622191703Z&hash=ugh95anc0q9dql5b2sudrmdrolp08dp6 [following]\n",
            "--2020-08-29 10:24:59--  https://doc-08-28-docs.googleusercontent.com/docs/securesc/tn4pj8j8jadmtvfuf3pb7fselomm9l83/u8qn5gjrqqqflupalsnglv0o80b19v80/1598696625000/04111600379416530047/17339607233622191703Z/1XvSDB1N2ytYZ6d_grMQrhRlmIsO746k6?e=download&nonce=s7ms6jusf9vem&user=17339607233622191703Z&hash=ugh95anc0q9dql5b2sudrmdrolp08dp6\n",
            "Connecting to doc-08-28-docs.googleusercontent.com (doc-08-28-docs.googleusercontent.com)|108.177.119.132|:443... connected.\n",
            "HTTP request sent, awaiting response... 200 OK\n",
            "Length: unspecified [application/x-zip-compressed]\n",
            "Saving to: ‘Large.zip’\n",
            "\n",
            "Large.zip               [    <=>             ]  70.92M  96.2MB/s    in 0.7s    \n",
            "\n",
            "2020-08-29 10:25:00 (96.2 MB/s) - ‘Large.zip’ saved [74360946]\n",
            "\n"
          ],
          "name": "stdout"
        }
      ]
    },
    {
      "cell_type": "markdown",
      "metadata": {
        "id": "9ZFfTF-6lkLj",
        "colab_type": "text"
      },
      "source": [
        "Unzipping and removing zip file"
      ]
    },
    {
      "cell_type": "code",
      "metadata": {
        "id": "Nev1Rnvg7a6L",
        "colab_type": "code",
        "colab": {
          "base_uri": "https://localhost:8080/",
          "height": 34
        },
        "outputId": "148f5c6a-2c20-40a2-fe06-024cd2807c2c"
      },
      "source": [
        "!unzip Large.zip"
      ],
      "execution_count": 24,
      "outputs": [
        {
          "output_type": "stream",
          "text": [
            "unzip:  cannot find or open Large.zip, Large.zip.zip or Large.zip.ZIP.\n"
          ],
          "name": "stdout"
        }
      ]
    },
    {
      "cell_type": "code",
      "metadata": {
        "id": "TfxlLAja-V72",
        "colab_type": "code",
        "colab": {
          "base_uri": "https://localhost:8080/",
          "height": 34
        },
        "outputId": "cb0e6409-c367-4cf9-fd44-01b7707f1e50"
      },
      "source": [
        "!rm *.zip"
      ],
      "execution_count": 25,
      "outputs": [
        {
          "output_type": "stream",
          "text": [
            "rm: cannot remove '*.zip': No such file or directory\n"
          ],
          "name": "stdout"
        }
      ]
    },
    {
      "cell_type": "markdown",
      "metadata": {
        "id": "rLmcNGES_2f_",
        "colab_type": "text"
      },
      "source": [
        "### Importing the data\n",
        "Images are loaded into a list from the data folder after being rescaled to 128x128 pixels, for interacting with the model images are rescaled into the 0-1 float range."
      ]
    },
    {
      "cell_type": "code",
      "metadata": {
        "id": "2Lx6SVVtBsrI",
        "colab_type": "code",
        "colab": {}
      },
      "source": [
        "import numpy as np\n",
        "import cv2\n",
        "import os\n",
        "from google.colab.patches import cv2_imshow"
      ],
      "execution_count": 26,
      "outputs": []
    },
    {
      "cell_type": "code",
      "metadata": {
        "id": "8fbsh6gDIhXR",
        "colab_type": "code",
        "colab": {}
      },
      "source": [
        "image_files = os.listdir('pokemon_jpg/pokemon_jpg')\n",
        "imgs = []\n",
        "for image_file in image_files:\n",
        "  img = cv2.imread('pokemon_jpg/pokemon_jpg/'+image_file)\n",
        "  small_img = cv2.resize(img,(128,128))\n",
        "  imgs.append(small_img)"
      ],
      "execution_count": 27,
      "outputs": []
    },
    {
      "cell_type": "markdown",
      "metadata": {
        "id": "bu_82GQhmCIM",
        "colab_type": "text"
      },
      "source": [
        "Let's see and example of the type of images in the dataset"
      ]
    },
    {
      "cell_type": "code",
      "metadata": {
        "id": "j3O_TxFZQubs",
        "colab_type": "code",
        "colab": {
          "base_uri": "https://localhost:8080/",
          "height": 145
        },
        "outputId": "9b33c048-0ee4-45d1-f513-5ae320a10d3a"
      },
      "source": [
        "cv2_imshow(imgs[5])"
      ],
      "execution_count": 28,
      "outputs": [
        {
          "output_type": "display_data",
          "data": {
            "image/png": "[encoded data removed]",
            "text/plain": [
              "<PIL.Image.Image image mode=RGB size=128x128 at 0x7FB8643A1A58>"
            ]
          },
          "metadata": {
            "tags": []
          }
        }
      ]
    },
    {
      "cell_type": "markdown",
      "metadata": {
        "id": "LIgvZuYiNWD1",
        "colab_type": "text"
      },
      "source": [
        "That last cell will take a while, a few minutes at most."
      ]
    },
    {
      "cell_type": "code",
      "metadata": {
        "id": "DcpSMhXgP73l",
        "colab_type": "code",
        "colab": {}
      },
      "source": [
        "imgs = np.array(imgs,float)/255"
      ],
      "execution_count": 29,
      "outputs": []
    },
    {
      "cell_type": "markdown",
      "metadata": {
        "id": "VukjUSsDOv3c",
        "colab_type": "text"
      },
      "source": [
        "## Time to define the network\n"
      ]
    },
    {
      "cell_type": "markdown",
      "metadata": {
        "id": "eZZ_r3CvmH3a",
        "colab_type": "text"
      },
      "source": [
        "Here are some resources that were helpful:\n",
        "1. `https://towardsdatascience.com/understanding-variational-autoencoders-vaes-f70510919f73`\n",
        "2. `https://www.tensorflow.org/api_docs/python/tf/keras/losses/KLDivergence`\n",
        "3. `https://www.tensorflow.org/api_docs/python/tf/keras/backend/random_normal`"
      ]
    },
    {
      "cell_type": "code",
      "metadata": {
        "id": "Mg-EXCzDleEP",
        "colab_type": "code",
        "colab": {}
      },
      "source": [
        "import tensorflow.keras as k\n",
        "import tensorflow as tf"
      ],
      "execution_count": 30,
      "outputs": []
    },
    {
      "cell_type": "code",
      "metadata": {
        "id": "RmCBdU1kli77",
        "colab_type": "code",
        "colab": {}
      },
      "source": [
        "from tensorflow.keras.layers import Conv2D, Dense, Input, LeakyReLU, Flatten, Activation,Conv2DTranspose, Multiply, Add, GaussianNoise, Subtract, Reshape\n",
        "from tensorflow.keras import Model\n",
        "from tensorflow.keras.losses import binary_crossentropy,KLD\n",
        "from tensorflow.keras.backend import abs\n",
        "from tensorflow.keras.activations import relu\n",
        "from tensorflow.keras.optimizers import Adam"
      ],
      "execution_count": 31,
      "outputs": []
    },
    {
      "cell_type": "markdown",
      "metadata": {
        "id": "WygDVtOZmpX-",
        "colab_type": "text"
      },
      "source": [
        "Defining the encoder"
      ]
    },
    {
      "cell_type": "code",
      "metadata": {
        "id": "THbF9gwvfNHt",
        "colab_type": "code",
        "colab": {}
      },
      "source": [
        "e0 = Input((128,128,3))\n",
        "\n",
        "e1 = Conv2D(32,3,2)(e0)\n",
        "e2 = LeakyReLU()(e1)\n",
        "\n",
        "e3 = Conv2D(64,3,2)(e2)\n",
        "e4 = LeakyReLU()(e3)\n",
        "\n",
        "e5 = Conv2D(64,3,2)(e4)\n",
        "e6 = LeakyReLU()(e5)\n",
        "\n",
        "e7 = Conv2D(64,3,2)(e6)\n",
        "e8 = LeakyReLU()(e7)\n",
        "\n",
        "e9 = Conv2D(64,3,2)(e8)\n",
        "e10 = LeakyReLU()(e9)\n",
        "\n",
        "e11 = Conv2D(64,3)(e10)\n",
        "e12 = LeakyReLU()(e11)\n",
        "\n",
        "e13 = Flatten()(e12)\n",
        "\n",
        "mu = Dense(1000, activation=relu)(e13)\n",
        "sigma = Dense(1000, activation=relu)(e13)\n",
        "\n",
        "zero = Subtract()([sigma,sigma])\n",
        "norm = GaussianNoise(1)(zero)\n",
        "\n",
        "sigma_x_norm = Multiply()([sigma,norm])\n",
        "enc_o = Add()([mu,sigma_x_norm])\n",
        "\n",
        "encoder = Model(inputs = e0,outputs = enc_o)"
      ],
      "execution_count": 32,
      "outputs": []
    },
    {
      "cell_type": "code",
      "metadata": {
        "id": "AwoA1s5lM_TA",
        "colab_type": "code",
        "colab": {
          "base_uri": "https://localhost:8080/",
          "height": 884
        },
        "outputId": "602bbf50-9b87-42ae-d23c-97cd74d6132b"
      },
      "source": [
        "encoder.summary()"
      ],
      "execution_count": 33,
      "outputs": [
        {
          "output_type": "stream",
          "text": [
            "Model: \"functional_7\"\n",
            "__________________________________________________________________________________________________\n",
            "Layer (type)                    Output Shape         Param #     Connected to                     \n",
            "==================================================================================================\n",
            "input_4 (InputLayer)            [(None, 128, 128, 3) 0                                            \n",
            "__________________________________________________________________________________________________\n",
            "conv2d_7 (Conv2D)               (None, 63, 63, 32)   896         input_4[0][0]                    \n",
            "__________________________________________________________________________________________________\n",
            "leaky_re_lu_11 (LeakyReLU)      (None, 63, 63, 32)   0           conv2d_7[0][0]                   \n",
            "__________________________________________________________________________________________________\n",
            "conv2d_8 (Conv2D)               (None, 31, 31, 64)   18496       leaky_re_lu_11[0][0]             \n",
            "__________________________________________________________________________________________________\n",
            "leaky_re_lu_12 (LeakyReLU)      (None, 31, 31, 64)   0           conv2d_8[0][0]                   \n",
            "__________________________________________________________________________________________________\n",
            "conv2d_9 (Conv2D)               (None, 15, 15, 64)   36928       leaky_re_lu_12[0][0]             \n",
            "__________________________________________________________________________________________________\n",
            "leaky_re_lu_13 (LeakyReLU)      (None, 15, 15, 64)   0           conv2d_9[0][0]                   \n",
            "__________________________________________________________________________________________________\n",
            "conv2d_10 (Conv2D)              (None, 7, 7, 64)     36928       leaky_re_lu_13[0][0]             \n",
            "__________________________________________________________________________________________________\n",
            "leaky_re_lu_14 (LeakyReLU)      (None, 7, 7, 64)     0           conv2d_10[0][0]                  \n",
            "__________________________________________________________________________________________________\n",
            "conv2d_11 (Conv2D)              (None, 3, 3, 64)     36928       leaky_re_lu_14[0][0]             \n",
            "__________________________________________________________________________________________________\n",
            "leaky_re_lu_15 (LeakyReLU)      (None, 3, 3, 64)     0           conv2d_11[0][0]                  \n",
            "__________________________________________________________________________________________________\n",
            "conv2d_12 (Conv2D)              (None, 1, 1, 64)     36928       leaky_re_lu_15[0][0]             \n",
            "__________________________________________________________________________________________________\n",
            "leaky_re_lu_16 (LeakyReLU)      (None, 1, 1, 64)     0           conv2d_12[0][0]                  \n",
            "__________________________________________________________________________________________________\n",
            "flatten_1 (Flatten)             (None, 64)           0           leaky_re_lu_16[0][0]             \n",
            "__________________________________________________________________________________________________\n",
            "dense_4 (Dense)                 (None, 1000)         65000       flatten_1[0][0]                  \n",
            "__________________________________________________________________________________________________\n",
            "subtract_1 (Subtract)           (None, 1000)         0           dense_4[0][0]                    \n",
            "                                                                 dense_4[0][0]                    \n",
            "__________________________________________________________________________________________________\n",
            "gaussian_noise_1 (GaussianNoise (None, 1000)         0           subtract_1[0][0]                 \n",
            "__________________________________________________________________________________________________\n",
            "dense_3 (Dense)                 (None, 1000)         65000       flatten_1[0][0]                  \n",
            "__________________________________________________________________________________________________\n",
            "multiply_1 (Multiply)           (None, 1000)         0           dense_4[0][0]                    \n",
            "                                                                 gaussian_noise_1[0][0]           \n",
            "__________________________________________________________________________________________________\n",
            "add_1 (Add)                     (None, 1000)         0           dense_3[0][0]                    \n",
            "                                                                 multiply_1[0][0]                 \n",
            "==================================================================================================\n",
            "Total params: 297,104\n",
            "Trainable params: 297,104\n",
            "Non-trainable params: 0\n",
            "__________________________________________________________________________________________________\n"
          ],
          "name": "stdout"
        }
      ]
    },
    {
      "cell_type": "code",
      "metadata": {
        "id": "6awrvm_rpKs7",
        "colab_type": "code",
        "colab": {
          "base_uri": "https://localhost:8080/",
          "height": 1000
        },
        "outputId": "ad016052-c623-4f9b-a444-70a35cc2e7e7"
      },
      "source": [
        "tf.keras.utils.plot_model(encoder)"
      ],
      "execution_count": 34,
      "outputs": [
        {
          "output_type": "execute_result",
          "data": {
            "image/png": "[encoded data removed]",
            "text/plain": [
              "<IPython.core.display.Image object>"
            ]
          },
          "metadata": {
            "tags": []
          },
          "execution_count": 34
        }
      ]
    },
    {
      "cell_type": "markdown",
      "metadata": {
        "id": "qUoYYJodmuKL",
        "colab_type": "text"
      },
      "source": [
        "Defining the decoder"
      ]
    },
    {
      "cell_type": "code",
      "metadata": {
        "id": "hQMsEqJ_gSzQ",
        "colab_type": "code",
        "colab": {}
      },
      "source": [
        "d0 = Input((1000))\n",
        "\n",
        "d1 = Dense(4096)(d0)\n",
        "d2 = Reshape((8,8,64))(d1)\n",
        "\n",
        "d3 = Conv2DTranspose(64,3,2,padding='same')(d2)\n",
        "d4 = LeakyReLU()(d3)\n",
        "\n",
        "d5 = Conv2DTranspose(64,3,2,padding='same')(d4)\n",
        "d6 = LeakyReLU()(d5)\n",
        "\n",
        "d7 = Conv2DTranspose(64,3,2,padding='same')(d6)\n",
        "d8 = LeakyReLU()(d7)\n",
        "\n",
        "d9 = Conv2DTranspose(32,3,2,padding='same')(d8)\n",
        "d10 = LeakyReLU()(d9)\n",
        "\n",
        "d11 = Conv2D(3,3,padding=\"same\")(d10)\n",
        "d12 = LeakyReLU()(d11)\n",
        "\n",
        "d13 = Activation('sigmoid')(d12)\n",
        "\n",
        "decoder = Model(inputs=d0,outputs=d13)"
      ],
      "execution_count": 35,
      "outputs": []
    },
    {
      "cell_type": "code",
      "metadata": {
        "id": "U1J8i8ICJrHq",
        "colab_type": "code",
        "colab": {
          "base_uri": "https://localhost:8080/",
          "height": 629
        },
        "outputId": "b58bf13a-652d-4693-ea52-701bfe047d14"
      },
      "source": [
        "decoder.summary()"
      ],
      "execution_count": 36,
      "outputs": [
        {
          "output_type": "stream",
          "text": [
            "Model: \"functional_9\"\n",
            "_________________________________________________________________\n",
            "Layer (type)                 Output Shape              Param #   \n",
            "=================================================================\n",
            "input_5 (InputLayer)         [(None, 1000)]            0         \n",
            "_________________________________________________________________\n",
            "dense_5 (Dense)              (None, 4096)              4100096   \n",
            "_________________________________________________________________\n",
            "reshape_1 (Reshape)          (None, 8, 8, 64)          0         \n",
            "_________________________________________________________________\n",
            "conv2d_transpose_4 (Conv2DTr (None, 16, 16, 64)        36928     \n",
            "_________________________________________________________________\n",
            "leaky_re_lu_17 (LeakyReLU)   (None, 16, 16, 64)        0         \n",
            "_________________________________________________________________\n",
            "conv2d_transpose_5 (Conv2DTr (None, 32, 32, 64)        36928     \n",
            "_________________________________________________________________\n",
            "leaky_re_lu_18 (LeakyReLU)   (None, 32, 32, 64)        0         \n",
            "_________________________________________________________________\n",
            "conv2d_transpose_6 (Conv2DTr (None, 64, 64, 64)        36928     \n",
            "_________________________________________________________________\n",
            "leaky_re_lu_19 (LeakyReLU)   (None, 64, 64, 64)        0         \n",
            "_________________________________________________________________\n",
            "conv2d_transpose_7 (Conv2DTr (None, 128, 128, 32)      18464     \n",
            "_________________________________________________________________\n",
            "leaky_re_lu_20 (LeakyReLU)   (None, 128, 128, 32)      0         \n",
            "_________________________________________________________________\n",
            "conv2d_13 (Conv2D)           (None, 128, 128, 3)       867       \n",
            "_________________________________________________________________\n",
            "leaky_re_lu_21 (LeakyReLU)   (None, 128, 128, 3)       0         \n",
            "_________________________________________________________________\n",
            "activation_1 (Activation)    (None, 128, 128, 3)       0         \n",
            "=================================================================\n",
            "Total params: 4,230,211\n",
            "Trainable params: 4,230,211\n",
            "Non-trainable params: 0\n",
            "_________________________________________________________________\n"
          ],
          "name": "stdout"
        }
      ]
    },
    {
      "cell_type": "code",
      "metadata": {
        "id": "Gln4gchgRo_g",
        "colab_type": "code",
        "colab": {
          "base_uri": "https://localhost:8080/",
          "height": 1000
        },
        "outputId": "6bfba478-0dbb-4c52-e6c9-b9f522f25115"
      },
      "source": [
        "tf.keras.utils.plot_model(decoder)"
      ],
      "execution_count": 37,
      "outputs": [
        {
          "output_type": "execute_result",
          "data": {
            "image/png": "[encoded data removed]",
            "text/plain": [
              "<IPython.core.display.Image object>"
            ]
          },
          "metadata": {
            "tags": []
          },
          "execution_count": 37
        }
      ]
    },
    {
      "cell_type": "markdown",
      "metadata": {
        "id": "8UtGC1w2JGx7",
        "colab_type": "text"
      },
      "source": [
        "Now to make a composite model"
      ]
    },
    {
      "cell_type": "code",
      "metadata": {
        "id": "g9-K5Hk4v8hy",
        "colab_type": "code",
        "colab": {}
      },
      "source": [
        "vae_input = Input(shape = (128,128,3))\n",
        "encoded = encoder(vae_input)\n",
        "vae_output = decoder(encoded)\n",
        "vae = Model(inputs = vae_input,outputs = vae_output)"
      ],
      "execution_count": 38,
      "outputs": []
    },
    {
      "cell_type": "code",
      "metadata": {
        "id": "2-SGf3Hbx3YU",
        "colab_type": "code",
        "colab": {
          "base_uri": "https://localhost:8080/",
          "height": 255
        },
        "outputId": "da20eca4-a5a0-44f9-84e5-27f0bac006ce"
      },
      "source": [
        "vae.summary()"
      ],
      "execution_count": 39,
      "outputs": [
        {
          "output_type": "stream",
          "text": [
            "Model: \"functional_11\"\n",
            "_________________________________________________________________\n",
            "Layer (type)                 Output Shape              Param #   \n",
            "=================================================================\n",
            "input_6 (InputLayer)         [(None, 128, 128, 3)]     0         \n",
            "_________________________________________________________________\n",
            "functional_7 (Functional)    (None, 1000)              297104    \n",
            "_________________________________________________________________\n",
            "functional_9 (Functional)    (None, 128, 128, 3)       4230211   \n",
            "=================================================================\n",
            "Total params: 4,527,315\n",
            "Trainable params: 4,527,315\n",
            "Non-trainable params: 0\n",
            "_________________________________________________________________\n"
          ],
          "name": "stdout"
        }
      ]
    },
    {
      "cell_type": "code",
      "metadata": {
        "id": "h3HkLJLKwwYB",
        "colab_type": "code",
        "colab": {
          "base_uri": "https://localhost:8080/",
          "height": 272
        },
        "outputId": "65e93266-5d53-4b36-fda1-1f663012fecd"
      },
      "source": [
        "tf.keras.utils.plot_model(vae)"
      ],
      "execution_count": 40,
      "outputs": [
        {
          "output_type": "execute_result",
          "data": {
            "image/png": "[encoded data removed]",
            "text/plain": [
              "<IPython.core.display.Image object>"
            ]
          },
          "metadata": {
            "tags": []
          },
          "execution_count": 40
        }
      ]
    },
    {
      "cell_type": "markdown",
      "metadata": {
        "id": "WXWQ7lsem3EK",
        "colab_type": "text"
      },
      "source": [
        "### Losses and Compilation"
      ]
    },
    {
      "cell_type": "code",
      "metadata": {
        "id": "Im2Ti_kTzcsY",
        "colab_type": "code",
        "colab": {}
      },
      "source": [
        "def vae_loss(y_true,y_pred):\n",
        "  #Maybe look into 'untangled VAE' or something like that.\n",
        "  return KLD(y_true,y_pred) + binary_crossentropy(y_true,y_pred)"
      ],
      "execution_count": 41,
      "outputs": []
    },
    {
      "cell_type": "code",
      "metadata": {
        "id": "X7VEmktGyGXx",
        "colab_type": "code",
        "colab": {}
      },
      "source": [
        "vae.compile(\n",
        "    optimizer = 'adam',\n",
        "    loss = vae_loss,\n",
        "    metrics=['accuracy','kullback_leibler_divergence','binary_crossentropy']\n",
        ")"
      ],
      "execution_count": 42,
      "outputs": []
    },
    {
      "cell_type": "code",
      "metadata": {
        "id": "b7K9uN57Ux4y",
        "colab_type": "code",
        "colab": {}
      },
      "source": [
        "encoder.compile(\n",
        "    optimizer = 'adam',\n",
        "    metrics=['accuracy','kullback_leibler_divergence','binary_crossentropy']\n",
        ")"
      ],
      "execution_count": 43,
      "outputs": []
    },
    {
      "cell_type": "code",
      "metadata": {
        "id": "Orj8FvpjUyBD",
        "colab_type": "code",
        "colab": {}
      },
      "source": [
        "decoder.compile(\n",
        "    optimizer = 'adam',\n",
        "    metrics=['accuracy','kullback_leibler_divergence','binary_crossentropy']\n",
        ")"
      ],
      "execution_count": 44,
      "outputs": []
    },
    {
      "cell_type": "markdown",
      "metadata": {
        "id": "TeHuhmJ5Siwq",
        "colab_type": "text"
      },
      "source": [
        "## Loading back the data and training"
      ]
    },
    {
      "cell_type": "code",
      "metadata": {
        "id": "qXyTDhTLUpUJ",
        "colab_type": "code",
        "colab": {
          "base_uri": "https://localhost:8080/",
          "height": 510
        },
        "outputId": "e58274cf-cafd-423e-a4c0-361993fa95d0"
      },
      "source": [
        "vae.fit(imgs,imgs,batch_size=200, epochs = 2000)"
      ],
      "execution_count": null,
      "outputs": [
        {
          "output_type": "stream",
          "text": [
            "Epoch 1/2000\n",
            "5/5 [==============================] - 1s 235ms/step - loss: 0.4451 - accuracy: 0.3086 - kullback_leibler_divergence: -0.0305 - binary_crossentropy: 0.4756\n",
            "Epoch 2/2000\n",
            "5/5 [==============================] - 1s 233ms/step - loss: 0.3803 - accuracy: 0.2417 - kullback_leibler_divergence: -0.1947 - binary_crossentropy: 0.5750\n",
            "Epoch 3/2000\n",
            "5/5 [==============================] - 1s 227ms/step - loss: 0.3478 - accuracy: 0.2030 - kullback_leibler_divergence: -0.1444 - binary_crossentropy: 0.4922\n",
            "Epoch 4/2000\n",
            "5/5 [==============================] - 1s 229ms/step - loss: 0.3228 - accuracy: 0.2051 - kullback_leibler_divergence: -0.1919 - binary_crossentropy: 0.5146\n",
            "Epoch 5/2000\n",
            "5/5 [==============================] - 1s 229ms/step - loss: 0.3121 - accuracy: 0.2632 - kullback_leibler_divergence: -0.1885 - binary_crossentropy: 0.5005\n",
            "Epoch 6/2000\n",
            "5/5 [==============================] - 1s 236ms/step - loss: 0.3053 - accuracy: 0.3216 - kullback_leibler_divergence: -0.1823 - binary_crossentropy: 0.4875\n",
            "Epoch 7/2000\n",
            "5/5 [==============================] - 1s 237ms/step - loss: 0.3012 - accuracy: 0.3125 - kullback_leibler_divergence: -0.2131 - binary_crossentropy: 0.5144\n",
            "Epoch 8/2000\n",
            "5/5 [==============================] - 1s 231ms/step - loss: 0.2994 - accuracy: 0.2661 - kullback_leibler_divergence: -0.1728 - binary_crossentropy: 0.4722\n",
            "Epoch 9/2000\n",
            "5/5 [==============================] - 1s 239ms/step - loss: 0.2975 - accuracy: 0.2311 - kullback_leibler_divergence: -0.2161 - binary_crossentropy: 0.5136\n",
            "Epoch 10/2000\n",
            "5/5 [==============================] - 1s 239ms/step - loss: 0.2958 - accuracy: 0.2200 - kullback_leibler_divergence: -0.1848 - binary_crossentropy: 0.4806\n",
            "Epoch 11/2000\n",
            "5/5 [==============================] - 1s 238ms/step - loss: 0.2943 - accuracy: 0.2253 - kullback_leibler_divergence: -0.2003 - binary_crossentropy: 0.4946\n",
            "Epoch 12/2000\n",
            "5/5 [==============================] - 1s 240ms/step - loss: 0.2931 - accuracy: 0.2359 - kullback_leibler_divergence: -0.2073 - binary_crossentropy: 0.5004\n",
            "Epoch 13/2000\n",
            "5/5 [==============================] - 1s 241ms/step - loss: 0.2922 - accuracy: 0.2437 - kullback_leibler_divergence: -0.1899 - binary_crossentropy: 0.4821\n",
            "Epoch 14/2000\n",
            "5/5 [==============================] - 1s 243ms/step - loss: 0.2909 - accuracy: 0.2418 - kullback_leibler_divergence: -0.2003 - binary_crossentropy: 0.4912\n",
            "Epoch 15/2000\n"
          ],
          "name": "stdout"
        }
      ]
    },
    {
      "cell_type": "markdown",
      "metadata": {
        "id": "zcqfcMyQnH8C",
        "colab_type": "text"
      },
      "source": [
        "### Trying it out"
      ]
    },
    {
      "cell_type": "markdown",
      "metadata": {
        "id": "tGzkkXYUnQPp",
        "colab_type": "text"
      },
      "source": [
        "Real image vs Reconstructed image"
      ]
    },
    {
      "cell_type": "code",
      "metadata": {
        "id": "dtkwdQp2drIq",
        "colab_type": "code",
        "colab": {}
      },
      "source": [
        "i = 78\n",
        "pred = vae.predict(np.array([imgs[i]]))\n",
        "cv2_imshow(imgs[i]*255)"
      ],
      "execution_count": null,
      "outputs": []
    },
    {
      "cell_type": "code",
      "metadata": {
        "id": "aEeOEqOzXrFl",
        "colab_type": "code",
        "colab": {}
      },
      "source": [
        "cv2_imshow(pred[0]*255)"
      ],
      "execution_count": null,
      "outputs": []
    },
    {
      "cell_type": "markdown",
      "metadata": {
        "id": "7Xp9z_4EnWNC",
        "colab_type": "text"
      },
      "source": [
        "Lets try some interpolation:\n",
        "Pick two images, and get their latent vectors `a` and `b`"
      ]
    },
    {
      "cell_type": "code",
      "metadata": {
        "id": "q_uDGbOwnyJ-",
        "colab_type": "code",
        "colab": {}
      },
      "source": [
        "a = encoder.predict(np.array([imgs[11]]))\n",
        "b = encoder.predict(np.array([imgs[78]]))"
      ],
      "execution_count": null,
      "outputs": []
    },
    {
      "cell_type": "code",
      "metadata": {
        "id": "cPL63i3JpjgT",
        "colab_type": "code",
        "colab": {}
      },
      "source": [
        "cv2_imshow(imgs[11]*255)"
      ],
      "execution_count": null,
      "outputs": []
    },
    {
      "cell_type": "code",
      "metadata": {
        "id": "u25rEWyypve6",
        "colab_type": "code",
        "colab": {}
      },
      "source": [
        "cv2_imshow(imgs[78]*255)"
      ],
      "execution_count": null,
      "outputs": []
    },
    {
      "cell_type": "code",
      "metadata": {
        "id": "GGBOlBK-qH9y",
        "colab_type": "code",
        "colab": {}
      },
      "source": [
        "#@title  { run: \"auto\" }\n",
        "x = 0.795 #@param {type:\"slider\", min:0, max:1, step:0.001}\n",
        "interpolation = (a*x+b*(1-x))/2\n",
        "prediction = decoder.predict(interpolation)\n",
        "cv2_imshow((255*prediction[0]/prediction[0].max()))"
      ],
      "execution_count": null,
      "outputs": []
    },
    {
      "cell_type": "markdown",
      "metadata": {
        "id": "Ohg0B9CUnjf2",
        "colab_type": "text"
      },
      "source": [
        "### Let's save the model, convert and export"
      ]
    },
    {
      "cell_type": "code",
      "metadata": {
        "id": "0WyoFppVPJlv",
        "colab_type": "code",
        "colab": {}
      },
      "source": [
        "!pip install tensorflowjs\n",
        "import tensorflowjs as tfjs"
      ],
      "execution_count": null,
      "outputs": []
    },
    {
      "cell_type": "code",
      "metadata": {
        "id": "sogE30vpQaz4",
        "colab_type": "code",
        "colab": {}
      },
      "source": [
        "!mkdir js_encoder js_decoder\n",
        "tfjs.converters.save_keras_model(encoder,'js_encoder')\n",
        "tfjs.converters.save_keras_model(decoder,'js_decoder')"
      ],
      "execution_count": null,
      "outputs": []
    },
    {
      "cell_type": "code",
      "metadata": {
        "id": "yzam21LZdHaI",
        "colab_type": "code",
        "colab": {}
      },
      "source": [
        "encoder.save('encoder')\n",
        "decoder.save('decoder')"
      ],
      "execution_count": null,
      "outputs": []
    },
    {
      "cell_type": "markdown",
      "metadata": {
        "id": "lDwvlD5Dnubb",
        "colab_type": "text"
      },
      "source": [
        "Set `download_model = True` to download the model"
      ]
    },
    {
      "cell_type": "code",
      "metadata": {
        "id": "QJzo0ANvkmEG",
        "colab_type": "code",
        "colab": {}
      },
      "source": [
        "download_model = False\n",
        "if download_model:\n",
        "  !zip -r js_encoder.zip js_encoder\n",
        "  !zip -r js_decoder.zip js_decoder\n",
        "  from google.colab import files\n",
        "  files.download(\"js_encoder.zip\")\n",
        "  files.download(\"js_decoder.zip\")"
      ],
      "execution_count": null,
      "outputs": []
    },
    {
      "cell_type": "markdown",
      "metadata": {
        "id": "KlRfHqYToZ2W",
        "colab_type": "text"
      },
      "source": [
        "### Sidenote: also export some images for the demo"
      ]
    },
    {
      "cell_type": "code",
      "metadata": {
        "id": "RezRf5ngoeIR",
        "colab_type": "code",
        "colab": {}
      },
      "source": [
        "!mkdir exportImgs\n",
        "for j in range(50):\n",
        "  i = np.random.randint(0,imgs.shape[0])\n",
        "  \n",
        "  cv2.imwrite(\"exportImgs/\"+str(j)+\".jpg\",imgs[i]*255)\n",
        "!zip -r exportImgs.zip exportImgs"
      ],
      "execution_count": null,
      "outputs": []
    },
    {
      "cell_type": "code",
      "metadata": {
        "id": "AcLl7F0MpwWc",
        "colab_type": "code",
        "colab": {}
      },
      "source": [
        "downloadImgs = False\n",
        "if downloadImgs:\n",
        "  from google.colab import files\n",
        "  files.download(\"exportImgs.zip\")"
      ],
      "execution_count": null,
      "outputs": []
    },
    {
      "cell_type": "code",
      "metadata": {
        "id": "MISijxqsouOd",
        "colab_type": "code",
        "colab": {}
      },
      "source": [
        "decoder.save('decoder')"
      ],
      "execution_count": null,
      "outputs": []
    },
    {
      "cell_type": "code",
      "metadata": {
        "id": "22QBNNG5o1jH",
        "colab_type": "code",
        "colab": {}
      },
      "source": [
        "encoder.save('encoder')"
      ],
      "execution_count": null,
      "outputs": []
    },
    {
      "cell_type": "code",
      "metadata": {
        "id": "Nlcsds3lo-w0",
        "colab_type": "code",
        "colab": {}
      },
      "source": [
        "!zip -r decoder.zip decoder"
      ],
      "execution_count": null,
      "outputs": []
    }
  ]
}